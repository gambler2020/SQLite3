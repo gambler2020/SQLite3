{
 "cells": [
  {
   "cell_type": "code",
   "execution_count": 1,
   "metadata": {},
   "outputs": [],
   "source": [
    "import sqlite3"
   ]
  },
  {
   "cell_type": "code",
   "execution_count": 2,
   "metadata": {},
   "outputs": [],
   "source": [
    "connection=sqlite3.connect(\"chinook.db\")"
   ]
  },
  {
   "cell_type": "code",
   "execution_count": 3,
   "metadata": {},
   "outputs": [],
   "source": [
    "crsr=connection.cursor()"
   ]
  },
  {
   "cell_type": "code",
   "execution_count": 4,
   "metadata": {},
   "outputs": [
    {
     "data": {
      "text/plain": [
       "<sqlite3.Cursor at 0x7f122d37ac70>"
      ]
     },
     "execution_count": 4,
     "metadata": {},
     "output_type": "execute_result"
    }
   ],
   "source": [
    "crsr.execute(\"select firstname, company, firstname '|| company||' from customers\")"
   ]
  },
  {
   "cell_type": "code",
   "execution_count": 5,
   "metadata": {},
   "outputs": [
    {
     "data": {
      "text/plain": [
       "[('Luís', 'Embraer - Empresa Brasileira de Aeronáutica S.A.', 'Luís'),\n",
       " ('Leonie', None, 'Leonie'),\n",
       " ('François', None, 'François'),\n",
       " ('Bjørn', None, 'Bjørn'),\n",
       " ('František', 'JetBrains s.r.o.', 'František'),\n",
       " ('Helena', None, 'Helena'),\n",
       " ('Astrid', None, 'Astrid'),\n",
       " ('Daan', None, 'Daan'),\n",
       " ('Kara', None, 'Kara'),\n",
       " ('Eduardo', 'Woodstock Discos', 'Eduardo'),\n",
       " ('Alexandre', 'Banco do Brasil S.A.', 'Alexandre'),\n",
       " ('Roberto', 'Riotur', 'Roberto'),\n",
       " ('Fernanda', None, 'Fernanda'),\n",
       " ('Mark', 'Telus', 'Mark'),\n",
       " ('Jennifer', 'Rogers Canada', 'Jennifer'),\n",
       " ('Frank', 'Google Inc.', 'Frank'),\n",
       " ('Jack', 'Microsoft Corporation', 'Jack'),\n",
       " ('Michelle', None, 'Michelle'),\n",
       " ('Tim', 'Apple Inc.', 'Tim'),\n",
       " ('Dan', None, 'Dan'),\n",
       " ('Kathy', None, 'Kathy'),\n",
       " ('Heather', None, 'Heather'),\n",
       " ('John', None, 'John'),\n",
       " ('Frank', None, 'Frank'),\n",
       " ('Victor', None, 'Victor'),\n",
       " ('Richard', None, 'Richard'),\n",
       " ('Patrick', None, 'Patrick'),\n",
       " ('Julia', None, 'Julia'),\n",
       " ('Robert', None, 'Robert'),\n",
       " ('Edward', None, 'Edward'),\n",
       " ('Martha', None, 'Martha'),\n",
       " ('Aaron', None, 'Aaron'),\n",
       " ('Ellie', None, 'Ellie'),\n",
       " ('João', None, 'João'),\n",
       " ('Madalena', None, 'Madalena'),\n",
       " ('Hannah', None, 'Hannah'),\n",
       " ('Fynn', None, 'Fynn'),\n",
       " ('Niklas', None, 'Niklas'),\n",
       " ('Camille', None, 'Camille'),\n",
       " ('Dominique', None, 'Dominique'),\n",
       " ('Marc', None, 'Marc'),\n",
       " ('Wyatt', None, 'Wyatt'),\n",
       " ('Isabelle', None, 'Isabelle'),\n",
       " ('Terhi', None, 'Terhi'),\n",
       " ('Ladislav', None, 'Ladislav'),\n",
       " ('Hugh', None, 'Hugh'),\n",
       " ('Lucas', None, 'Lucas'),\n",
       " ('Johannes', None, 'Johannes'),\n",
       " ('Stanisław', None, 'Stanisław'),\n",
       " ('Enrique', None, 'Enrique'),\n",
       " ('Joakim', None, 'Joakim'),\n",
       " ('Emma', None, 'Emma'),\n",
       " ('Phil', None, 'Phil'),\n",
       " ('Steve', None, 'Steve'),\n",
       " ('Mark', None, 'Mark'),\n",
       " ('Diego', None, 'Diego'),\n",
       " ('Luis', None, 'Luis'),\n",
       " ('Manoj', None, 'Manoj'),\n",
       " ('Puja', None, 'Puja')]"
      ]
     },
     "execution_count": 5,
     "metadata": {},
     "output_type": "execute_result"
    }
   ],
   "source": [
    "crsr.fetchall()"
   ]
  },
  {
   "cell_type": "code",
   "execution_count": 6,
   "metadata": {},
   "outputs": [
    {
     "data": {
      "text/plain": [
       "<sqlite3.Cursor at 0x7f122d37ac70>"
      ]
     },
     "execution_count": 6,
     "metadata": {},
     "output_type": "execute_result"
    }
   ],
   "source": [
    "crsr.execute(\"select firstname, substr(firstname,2,3) from customers\")"
   ]
  },
  {
   "cell_type": "code",
   "execution_count": 7,
   "metadata": {},
   "outputs": [
    {
     "data": {
      "text/plain": [
       "[('Luís', 'uís'),\n",
       " ('Leonie', 'eon'),\n",
       " ('François', 'ran'),\n",
       " ('Bjørn', 'jør'),\n",
       " ('František', 'ran'),\n",
       " ('Helena', 'ele'),\n",
       " ('Astrid', 'str'),\n",
       " ('Daan', 'aan'),\n",
       " ('Kara', 'ara'),\n",
       " ('Eduardo', 'dua'),\n",
       " ('Alexandre', 'lex'),\n",
       " ('Roberto', 'obe'),\n",
       " ('Fernanda', 'ern'),\n",
       " ('Mark', 'ark'),\n",
       " ('Jennifer', 'enn'),\n",
       " ('Frank', 'ran'),\n",
       " ('Jack', 'ack'),\n",
       " ('Michelle', 'ich'),\n",
       " ('Tim', 'im'),\n",
       " ('Dan', 'an'),\n",
       " ('Kathy', 'ath'),\n",
       " ('Heather', 'eat'),\n",
       " ('John', 'ohn'),\n",
       " ('Frank', 'ran'),\n",
       " ('Victor', 'ict'),\n",
       " ('Richard', 'ich'),\n",
       " ('Patrick', 'atr'),\n",
       " ('Julia', 'uli'),\n",
       " ('Robert', 'obe'),\n",
       " ('Edward', 'dwa'),\n",
       " ('Martha', 'art'),\n",
       " ('Aaron', 'aro'),\n",
       " ('Ellie', 'lli'),\n",
       " ('João', 'oão'),\n",
       " ('Madalena', 'ada'),\n",
       " ('Hannah', 'ann'),\n",
       " ('Fynn', 'ynn'),\n",
       " ('Niklas', 'ikl'),\n",
       " ('Camille', 'ami'),\n",
       " ('Dominique', 'omi'),\n",
       " ('Marc', 'arc'),\n",
       " ('Wyatt', 'yat'),\n",
       " ('Isabelle', 'sab'),\n",
       " ('Terhi', 'erh'),\n",
       " ('Ladislav', 'adi'),\n",
       " ('Hugh', 'ugh'),\n",
       " ('Lucas', 'uca'),\n",
       " ('Johannes', 'oha'),\n",
       " ('Stanisław', 'tan'),\n",
       " ('Enrique', 'nri'),\n",
       " ('Joakim', 'oak'),\n",
       " ('Emma', 'mma'),\n",
       " ('Phil', 'hil'),\n",
       " ('Steve', 'tev'),\n",
       " ('Mark', 'ark'),\n",
       " ('Diego', 'ieg'),\n",
       " ('Luis', 'uis'),\n",
       " ('Manoj', 'ano'),\n",
       " ('Puja', 'uja')]"
      ]
     },
     "execution_count": 7,
     "metadata": {},
     "output_type": "execute_result"
    }
   ],
   "source": [
    "crsr.fetchall()"
   ]
  },
  {
   "cell_type": "code",
   "execution_count": null,
   "metadata": {},
   "outputs": [],
   "source": []
  },
  {
   "cell_type": "code",
   "execution_count": 9,
   "metadata": {},
   "outputs": [
    {
     "data": {
      "text/plain": [
       "<sqlite3.Cursor at 0x7f122d37ac70>"
      ]
     },
     "execution_count": 9,
     "metadata": {},
     "output_type": "execute_result"
    }
   ],
   "source": [
    "crsr.execute(\"select birthdate from employees\")"
   ]
  },
  {
   "cell_type": "code",
   "execution_count": 10,
   "metadata": {},
   "outputs": [
    {
     "data": {
      "text/plain": [
       "[('1962-02-18 00:00:00',),\n",
       " ('1958-12-08 00:00:00',),\n",
       " ('1973-08-29 00:00:00',),\n",
       " ('1947-09-19 00:00:00',),\n",
       " ('1965-03-03 00:00:00',),\n",
       " ('1973-07-01 00:00:00',),\n",
       " ('1970-05-29 00:00:00',),\n",
       " ('1968-01-09 00:00:00',)]"
      ]
     },
     "execution_count": 10,
     "metadata": {},
     "output_type": "execute_result"
    }
   ],
   "source": [
    "crsr.fetchall()"
   ]
  },
  {
   "cell_type": "code",
   "execution_count": 17,
   "metadata": {},
   "outputs": [
    {
     "data": {
      "text/plain": [
       "<sqlite3.Cursor at 0x7f122d37ac70>"
      ]
     },
     "execution_count": 17,
     "metadata": {},
     "output_type": "execute_result"
    }
   ],
   "source": [
    "crsr.execute(\"select strftime('%d', Birthdate) as Day, strftime('%m', Birthdate) as Month, strftime('%Y', Birthdate) as Year from employees\")"
   ]
  },
  {
   "cell_type": "code",
   "execution_count": 18,
   "metadata": {},
   "outputs": [
    {
     "data": {
      "text/plain": [
       "[('18', '02', '1962'),\n",
       " ('08', '12', '1958'),\n",
       " ('29', '08', '1973'),\n",
       " ('19', '09', '1947'),\n",
       " ('03', '03', '1965'),\n",
       " ('01', '07', '1973'),\n",
       " ('29', '05', '1970'),\n",
       " ('09', '01', '1968')]"
      ]
     },
     "execution_count": 18,
     "metadata": {},
     "output_type": "execute_result"
    }
   ],
   "source": [
    "crsr.fetchall()"
   ]
  },
  {
   "cell_type": "code",
   "execution_count": 20,
   "metadata": {},
   "outputs": [
    {
     "data": {
      "text/plain": [
       "<sqlite3.Cursor at 0x7f122d37ac70>"
      ]
     },
     "execution_count": 20,
     "metadata": {},
     "output_type": "execute_result"
    }
   ],
   "source": [
    "crsr.execute(\"select date('now')\")"
   ]
  },
  {
   "cell_type": "code",
   "execution_count": 21,
   "metadata": {},
   "outputs": [
    {
     "data": {
      "text/plain": [
       "[('2020-07-07',)]"
      ]
     },
     "execution_count": 21,
     "metadata": {},
     "output_type": "execute_result"
    }
   ],
   "source": [
    "crsr.fetchall()"
   ]
  },
  {
   "cell_type": "code",
   "execution_count": 27,
   "metadata": {},
   "outputs": [
    {
     "data": {
      "text/plain": [
       "<sqlite3.Cursor at 0x7f122d37ac70>"
      ]
     },
     "execution_count": 27,
     "metadata": {},
     "output_type": "execute_result"
    }
   ],
   "source": [
    "crsr.execute(\"select strftime('%d-%m-%Y', 'now')\")"
   ]
  },
  {
   "cell_type": "code",
   "execution_count": 28,
   "metadata": {},
   "outputs": [
    {
     "data": {
      "text/plain": [
       "[('07-07-2020',)]"
      ]
     },
     "execution_count": 28,
     "metadata": {},
     "output_type": "execute_result"
    }
   ],
   "source": [
    "crsr.fetchall()"
   ]
  },
  {
   "cell_type": "code",
   "execution_count": 29,
   "metadata": {},
   "outputs": [
    {
     "data": {
      "text/plain": [
       "<sqlite3.Cursor at 0x7f122d37ac70>"
      ]
     },
     "execution_count": 29,
     "metadata": {},
     "output_type": "execute_result"
    }
   ],
   "source": [
    "crsr.execute(\"select strftime('%H %M %S %s', 'now')\")"
   ]
  },
  {
   "cell_type": "code",
   "execution_count": 30,
   "metadata": {},
   "outputs": [
    {
     "data": {
      "text/plain": [
       "[('07 55 10 1594108510',)]"
      ]
     },
     "execution_count": 30,
     "metadata": {},
     "output_type": "execute_result"
    }
   ],
   "source": [
    "crsr.fetchall()"
   ]
  },
  {
   "cell_type": "code",
   "execution_count": 41,
   "metadata": {},
   "outputs": [
    {
     "data": {
      "text/plain": [
       "<sqlite3.Cursor at 0x7f122d37ac70>"
      ]
     },
     "execution_count": 41,
     "metadata": {},
     "output_type": "execute_result"
    }
   ],
   "source": [
    "crsr.execute(\"select birthdate, strftime('%Y', birthdate) as Year, strftime('%m', birthdate) as Month, strftime('%d', birthdate) as Day, date(('now') - (birthdate)) as Age from employees\")"
   ]
  },
  {
   "cell_type": "code",
   "execution_count": 42,
   "metadata": {},
   "outputs": [
    {
     "data": {
      "text/plain": [
       "[('1962-02-18 00:00:00', '1962', '02', '18', None),\n",
       " ('1958-12-08 00:00:00', '1958', '12', '08', None),\n",
       " ('1973-08-29 00:00:00', '1973', '08', '29', None),\n",
       " ('1947-09-19 00:00:00', '1947', '09', '19', None),\n",
       " ('1965-03-03 00:00:00', '1965', '03', '03', None),\n",
       " ('1973-07-01 00:00:00', '1973', '07', '01', None),\n",
       " ('1970-05-29 00:00:00', '1970', '05', '29', None),\n",
       " ('1968-01-09 00:00:00', '1968', '01', '09', None)]"
      ]
     },
     "execution_count": 42,
     "metadata": {},
     "output_type": "execute_result"
    }
   ],
   "source": [
    "crsr.fetchall()"
   ]
  },
  {
   "cell_type": "code",
   "execution_count": null,
   "metadata": {},
   "outputs": [],
   "source": []
  }
 ],
 "metadata": {
  "kernelspec": {
   "display_name": "Python 3",
   "language": "python",
   "name": "python3"
  },
  "language_info": {
   "codemirror_mode": {
    "name": "ipython",
    "version": 3
   },
   "file_extension": ".py",
   "mimetype": "text/x-python",
   "name": "python",
   "nbconvert_exporter": "python",
   "pygments_lexer": "ipython3",
   "version": "3.7.6"
  }
 },
 "nbformat": 4,
 "nbformat_minor": 4
}
